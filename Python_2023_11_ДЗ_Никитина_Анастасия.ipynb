{
 "cells": [
  {
   "cell_type": "markdown",
   "metadata": {
    "id": "V4njW26kU2d7"
   },
   "source": [
    "#Урок 11. Домашнее задание"
   ]
  },
  {
   "cell_type": "markdown",
   "metadata": {
    "id": "Fe4hOVsAkHRW"
   },
   "source": [
    "##Задание 1.\n",
    "Пользователь вводит строку из цифр и букв,  программа считает и выводит на экран, сколько раз в строке встретилась цифра 0.\n",
    "Указание: использовать find с поиском в части строки."
   ]
  },
  {
   "cell_type": "code",
   "execution_count": 6,
   "metadata": {
    "id": "e1asd0z7wMLs"
   },
   "outputs": [
    {
     "name": "stdout",
     "output_type": "stream",
     "text": [
      "введите строку из цифр и буквhi0\n",
      "Цифра 0 встретилась 1 раз.\n"
     ]
    }
   ],
   "source": [
    "a=input('введите строку из цифр и букв')\n",
    "zero = 0\n",
    "start = 0\n",
    "zero_index = 0\n",
    "while True:\n",
    "    zero_index = a.find('0', start)\n",
    "    if zero_index == -1:\n",
    "        break\n",
    "    else:\n",
    "        zero += 1  \n",
    "        start = zero_index + 1\n",
    "print(f'Цифра 0 встретилась {zero} раз.')"
   ]
  },
  {
   "cell_type": "markdown",
   "metadata": {
    "id": "Ti-_oZ2o8Lnk"
   },
   "source": [
    "##Задание 2.\n",
    "Пользователь вводит строку из цифр и букв,  программа выводит на экран  ближайшую к началу строки цифру и номер ее первого вхождения в строку. Если цифр в строке нет, выводится текст \"Цифр нет\"\n",
    "\n",
    "**Указание:** использовать find."
   ]
  },
  {
   "cell_type": "code",
   "execution_count": 9,
   "metadata": {
    "id": "kd7ekwYHwNeG"
   },
   "outputs": [
    {
     "name": "stdout",
     "output_type": "stream",
     "text": [
      "введите строку из цифр и буквпривет123\n",
      "1 6\n"
     ]
    }
   ],
   "source": [
    "a=input('введите строку из цифр и букв')\n",
    "num = 0\n",
    "for i in a:\n",
    "    num+=1\n",
    "    if i.isdigit():\n",
    "        print(i,num)\n",
    "        break\n",
    "else:\n",
    "    print('цифр нет')  "
   ]
  },
  {
   "cell_type": "markdown",
   "metadata": {
    "id": "CwjIe2uskjQt"
   },
   "source": [
    "##Задание 3.\n",
    "Пользователь вводит текст с запятыми и точками, программа выводит тот же текст, удаляя, если есть, пробел перед запятой или точкой, и добавляя, если нужно, пробел после запятой или точки. Если в самом конце текста точка, то после нее пробел не пишется. Т.е. в тексте, выведенном программой, не должно быть пробелов перед знаками препинания, а после - один пробел."
   ]
  },
  {
   "cell_type": "code",
   "execution_count": null,
   "metadata": {
    "id": "KoWMqyXawPt_"
   },
   "outputs": [],
   "source": [
    "a=input('введите текст')\n",
    "a.replace(' ,',',')\n",
    "a.replace(',',', ')\n",
    "a.replace(' .','.')\n",
    "a.replace('.','. ')\n",
    "print(a)"
   ]
  },
  {
   "cell_type": "markdown",
   "metadata": {
    "id": "B8xeIk0FnjPd"
   },
   "source": [
    "##Задание 4.\n",
    "Пользователь вводит текст из слов, состоящих из букв, слова разделены пробелами, может быть подряд несколько пробелов. Программа выводит на экран слова, каждое на отдельной строке\n",
    "\n",
    "Например, если введено 'слово текст   еще  текст' то выводится\n",
    "\n",
    "слово\n",
    "\n",
    "текст\n",
    "\n",
    "еще\n",
    "\n",
    "текст"
   ]
  },
  {
   "cell_type": "code",
   "execution_count": null,
   "metadata": {
    "id": "9QPi4RRuwQ6W"
   },
   "outputs": [],
   "source": [
    "a=list(map(str, input().split()))\n",
    "for i in a:\n",
    "    print(i)"
   ]
  },
  {
   "cell_type": "markdown",
   "metadata": {
    "id": "DOQW2V8tma_O"
   },
   "source": [
    "##Задание 5.\n",
    "Пользователь вводит строку из букв и цифр, программа выводит количество цифр и букв.\n",
    "\n",
    "Например, если введено '12nhfd5634', то программа выводит 'Цифр 6, букв 4.'."
   ]
  },
  {
   "cell_type": "code",
   "execution_count": 4,
   "metadata": {
    "id": "ZhlFhFJYwSXu"
   },
   "outputs": [
    {
     "name": "stdout",
     "output_type": "stream",
     "text": [
      "введите строку из букв и цифрpoka1\n",
      "цифр 5 , букв 5\n"
     ]
    }
   ],
   "source": [
    "a = input('введите строку из букв и цифр')\n",
    "num = 0\n",
    "let = 0\n",
    "for char in a:\n",
    "    if char.isdigit():\n",
    "        num += 1\n",
    "    if char.isalpha():\n",
    "        let += 1       \n",
    "print('цифр',num,', букв',let)\n",
    "    "
   ]
  },
  {
   "cell_type": "code",
   "execution_count": null,
   "metadata": {},
   "outputs": [],
   "source": []
  }
 ],
 "metadata": {
  "colab": {
   "provenance": []
  },
  "kernelspec": {
   "display_name": "Python 3 (ipykernel)",
   "language": "python",
   "name": "python3"
  },
  "language_info": {
   "codemirror_mode": {
    "name": "ipython",
    "version": 3
   },
   "file_extension": ".py",
   "mimetype": "text/x-python",
   "name": "python",
   "nbconvert_exporter": "python",
   "pygments_lexer": "ipython3",
   "version": "3.11.4"
  }
 },
 "nbformat": 4,
 "nbformat_minor": 1
}
